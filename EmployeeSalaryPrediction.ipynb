{
  "cells": [
    {
      "cell_type": "markdown",
      "metadata": {
        "id": "view-in-github",
        "colab_type": "text"
      },
      "source": [
        "<a href=\"https://colab.research.google.com/github/O-NS23/Employee-Salary-Prediction/blob/main/EmployeeSalaryPrediction.ipynb\" target=\"_parent\"><img src=\"https://colab.research.google.com/assets/colab-badge.svg\" alt=\"Open In Colab\"/></a>"
      ]
    },
    {
      "cell_type": "code",
      "source": [
        "# INSTALL & IMPORT LIBRARIES\n",
        "!pip install seaborn joblib --quiet\n",
        "\n",
        "import pandas as pd\n",
        "import numpy as np\n",
        "import matplotlib.pyplot as plt\n",
        "import seaborn as sns\n",
        "\n",
        "from sklearn.model_selection import train_test_split\n",
        "from sklearn.preprocessing import StandardScaler, OneHotEncoder\n",
        "from sklearn.compose import ColumnTransformer\n",
        "from sklearn.pipeline import Pipeline\n",
        "from sklearn.metrics import accuracy_score, classification_report, confusion_matrix, ConfusionMatrixDisplay\n",
        "\n",
        "from sklearn.linear_model import LogisticRegression\n",
        "from sklearn.neighbors import KNeighborsClassifier\n",
        "from sklearn.neural_network import MLPClassifier\n",
        "from sklearn.ensemble import RandomForestClassifier, GradientBoostingClassifier\n",
        "from sklearn.svm import SVC\n",
        "import joblib\n"
      ],
      "metadata": {
        "id": "DW1hprn7ra0O"
      },
      "execution_count": 1,
      "outputs": []
    },
    {
      "cell_type": "code",
      "source": [
        "# LOAD DATASET\n",
        "df = pd.read_csv('/content/salary_dataset.csv')\n",
        "\n",
        "# Replace '?' with NaN, then fill missing with 'NotGiven'\n",
        "df.replace('?', np.nan, inplace=True)\n",
        "df.fillna('NotGiven', inplace=True)\n",
        "\n",
        "print(\" Dataset Loaded & Cleaned\")\n",
        "print(\"Shape of dataset:\", df.shape)\n",
        "print(\"\\nFirst 5 rows:\\n\", df.head())\n",
        "print(\"\\nDataset info:\")\n",
        "print(df.info())\n",
        "\n",
        "# Check missing values (should be 0 now)\n",
        "print(\"\\nMissing values after cleaning:\\n\", df.isnull().sum())"
      ],
      "metadata": {
        "colab": {
          "base_uri": "https://localhost:8080/"
        },
        "id": "ylmPfCdMyABq",
        "outputId": "bbb140f6-1f76-4c6c-ef14-c3468243994e"
      },
      "execution_count": 22,
      "outputs": [
        {
          "output_type": "stream",
          "name": "stdout",
          "text": [
            " Dataset Loaded & Cleaned\n",
            "Shape of dataset: (48842, 15)\n",
            "\n",
            "First 5 rows:\n",
            "    age  workclass  fnlwgt     education  educational-num      marital-status  \\\n",
            "0   25    Private  226802          11th                7       Never-married   \n",
            "1   38    Private   89814       HS-grad                9  Married-civ-spouse   \n",
            "2   28  Local-gov  336951    Assoc-acdm               12  Married-civ-spouse   \n",
            "3   44    Private  160323  Some-college               10  Married-civ-spouse   \n",
            "4   18   NotGiven  103497  Some-college               10       Never-married   \n",
            "\n",
            "          occupation relationship   race  gender  capital-gain  capital-loss  \\\n",
            "0  Machine-op-inspct    Own-child  Black    Male             0             0   \n",
            "1    Farming-fishing      Husband  White    Male             0             0   \n",
            "2    Protective-serv      Husband  White    Male             0             0   \n",
            "3  Machine-op-inspct      Husband  Black    Male          7688             0   \n",
            "4           NotGiven    Own-child  White  Female             0             0   \n",
            "\n",
            "   hours-per-week native-country income  \n",
            "0              40  United-States  <=50K  \n",
            "1              50  United-States  <=50K  \n",
            "2              40  United-States   >50K  \n",
            "3              40  United-States   >50K  \n",
            "4              30  United-States  <=50K  \n",
            "\n",
            "Dataset info:\n",
            "<class 'pandas.core.frame.DataFrame'>\n",
            "RangeIndex: 48842 entries, 0 to 48841\n",
            "Data columns (total 15 columns):\n",
            " #   Column           Non-Null Count  Dtype \n",
            "---  ------           --------------  ----- \n",
            " 0   age              48842 non-null  int64 \n",
            " 1   workclass        48842 non-null  object\n",
            " 2   fnlwgt           48842 non-null  int64 \n",
            " 3   education        48842 non-null  object\n",
            " 4   educational-num  48842 non-null  int64 \n",
            " 5   marital-status   48842 non-null  object\n",
            " 6   occupation       48842 non-null  object\n",
            " 7   relationship     48842 non-null  object\n",
            " 8   race             48842 non-null  object\n",
            " 9   gender           48842 non-null  object\n",
            " 10  capital-gain     48842 non-null  int64 \n",
            " 11  capital-loss     48842 non-null  int64 \n",
            " 12  hours-per-week   48842 non-null  int64 \n",
            " 13  native-country   48842 non-null  object\n",
            " 14  income           48842 non-null  object\n",
            "dtypes: int64(6), object(9)\n",
            "memory usage: 5.6+ MB\n",
            "None\n",
            "\n",
            "Missing values after cleaning:\n",
            " age                0\n",
            "workclass          0\n",
            "fnlwgt             0\n",
            "education          0\n",
            "educational-num    0\n",
            "marital-status     0\n",
            "occupation         0\n",
            "relationship       0\n",
            "race               0\n",
            "gender             0\n",
            "capital-gain       0\n",
            "capital-loss       0\n",
            "hours-per-week     0\n",
            "native-country     0\n",
            "income             0\n",
            "dtype: int64\n"
          ]
        }
      ]
    },
    {
      "cell_type": "code",
      "source": [
        "# EXPLORATORY DATA ANALYSIS\n",
        "plt.figure(figsize=(10, 6))\n",
        "if 'salary' in df.columns:\n",
        "    sns.boxplot(data=df, y='salary')  # Boxplot for salary distribution\n",
        "    plt.title('Boxplot of Salary')\n",
        "    plt.show()\n",
        "\n",
        "print(\"\\nCategorical Columns:\\n\", df.select_dtypes(include=['object']).columns.tolist())\n",
        "print(\"\\nNumeric Columns:\\n\", df.select_dtypes(include=['int64','float64']).columns.tolist())\n"
      ],
      "metadata": {
        "colab": {
          "base_uri": "https://localhost:8080/",
          "height": 145
        },
        "id": "muxj9-dVsju1",
        "outputId": "7dc295b0-e6a5-4402-f9e7-f1de91862176"
      },
      "execution_count": 23,
      "outputs": [
        {
          "output_type": "stream",
          "name": "stdout",
          "text": [
            "\n",
            "Categorical Columns:\n",
            " ['workclass', 'education', 'marital-status', 'occupation', 'relationship', 'race', 'gender', 'native-country', 'income']\n",
            "\n",
            "Numeric Columns:\n",
            " ['age', 'fnlwgt', 'educational-num', 'capital-gain', 'capital-loss', 'hours-per-week']\n"
          ]
        },
        {
          "output_type": "display_data",
          "data": {
            "text/plain": [
              "<Figure size 1000x600 with 0 Axes>"
            ]
          },
          "metadata": {}
        }
      ]
    },
    {
      "cell_type": "code",
      "source": [
        "\n",
        "# DEFINE FEATURES & TARGET\n",
        "\n",
        "if 'salary' in df.columns and df['salary'].dtype != 'object':\n",
        "    # Convert continuous salary to categories (Low, Medium, High)\n",
        "    df['salary_category'] = pd.cut(df['salary'],\n",
        "                                   bins=[0,50000,100000,200000],\n",
        "                                   labels=['Low','Medium','High'])\n",
        "    y = df['salary_category']\n",
        "else:\n",
        "    # If salary already categorical, use it\n",
        "    y = df['salary'] if 'salary' in df.columns else df.iloc[:, -1]\n",
        "\n",
        "# Drop salary columns from features\n",
        "X = df.drop(['salary', 'salary_category'], axis=1, errors='ignore')\n",
        "\n",
        "# Identify categorical & numeric features\n",
        "categorical_features = X.select_dtypes(include=['object']).columns.tolist()\n",
        "numeric_features = X.select_dtypes(include=['int64','float64']).columns.tolist()\n",
        "\n",
        "print(\" Target defined. Features shape:\", X.shape, \"| Target shape:\", y.shape)\n",
        "\n",
        "\n",
        "# TRAIN-TEST SPLIT\n",
        "X_train, X_test, y_train, y_test = train_test_split(\n",
        "    X, y, test_size=0.2, random_state=42, stratify=y)\n",
        "\n",
        "print(\" Data Split Done\")\n",
        "print(\"Train Size:\", X_train.shape, \"Test Size:\", X_test.shape)\n"
      ],
      "metadata": {
        "colab": {
          "base_uri": "https://localhost:8080/"
        },
        "id": "m--m2zGHst_Q",
        "outputId": "58d4e7ff-d752-457b-dacd-63125e7afdf9"
      },
      "execution_count": 24,
      "outputs": [
        {
          "output_type": "stream",
          "name": "stdout",
          "text": [
            " Target defined. Features shape: (48842, 15) | Target shape: (48842,)\n",
            " Data Split Done\n",
            "Train Size: (39073, 15) Test Size: (9769, 15)\n"
          ]
        }
      ]
    },
    {
      "cell_type": "code",
      "source": [
        "# PREPROCESSING PIPELINE\n",
        "numeric_transformer = StandardScaler()\n",
        "categorical_transformer = OneHotEncoder(handle_unknown='ignore')\n",
        "\n",
        "preprocessor = ColumnTransformer(\n",
        "    transformers=[\n",
        "        ('num', numeric_transformer, numeric_features),\n",
        "        ('cat', categorical_transformer, categorical_features)\n",
        "    ])\n",
        "\n",
        "# DEFINE MODELS\n",
        "models = {\n",
        "    \"Logistic Regression\": LogisticRegression(max_iter=500),\n",
        "    \"KNN\": KNeighborsClassifier(n_neighbors=5),\n",
        "    \"MLP Classifier\": MLPClassifier(hidden_layer_sizes=(50,), max_iter=500),\n",
        "    \"Random Forest\": RandomForestClassifier(n_estimators=200, random_state=42),\n",
        "    \"Gradient Boosting\": GradientBoostingClassifier(),\n",
        "    \"SVM\": SVC(kernel='rbf', probability=True)\n",
        "}\n",
        "\n",
        "results = {}\n",
        "print(\" Preprocessing & Models Ready\")\n"
      ],
      "metadata": {
        "colab": {
          "base_uri": "https://localhost:8080/"
        },
        "id": "QCy5DN6us76w",
        "outputId": "8774e1c1-8efe-4d78-881e-2b654ef129db"
      },
      "execution_count": 25,
      "outputs": [
        {
          "output_type": "stream",
          "name": "stdout",
          "text": [
            " Preprocessing & Models Ready\n"
          ]
        }
      ]
    },
    {
      "cell_type": "code",
      "source": [
        "# TRAIN & EVALUATE MODELS\n",
        "\n",
        "for model_name, model in models.items():\n",
        "    pipe = Pipeline(steps=[('preprocessor', preprocessor),\n",
        "                           ('classifier', model)])\n",
        "\n",
        "    pipe.fit(X_train, y_train)\n",
        "    y_pred = pipe.predict(X_test)\n",
        "\n",
        "    acc = accuracy_score(y_test, y_pred)\n",
        "    results[model_name] = acc\n",
        "\n",
        "    print(\"\\n==============================\")\n",
        "    print(f\"Model: {model_name}\")\n",
        "    print(f\" Accuracy: {acc:.4f}\")\n",
        "    print(\"Classification Report:\")\n",
        "    print(classification_report(y_test, y_pred))\n",
        "\n",
        "print(\"\\n All models evaluated!\")\n"
      ],
      "metadata": {
        "colab": {
          "base_uri": "https://localhost:8080/"
        },
        "id": "xMB7e7RdtJd2",
        "outputId": "01efef1b-98b8-462e-9f19-a263647cb044"
      },
      "execution_count": 26,
      "outputs": [
        {
          "output_type": "stream",
          "name": "stdout",
          "text": [
            "\n",
            "==============================\n",
            "Model: Logistic Regression\n",
            " Accuracy: 1.0000\n",
            "Classification Report:\n",
            "              precision    recall  f1-score   support\n",
            "\n",
            "       <=50K       1.00      1.00      1.00      7431\n",
            "        >50K       1.00      1.00      1.00      2338\n",
            "\n",
            "    accuracy                           1.00      9769\n",
            "   macro avg       1.00      1.00      1.00      9769\n",
            "weighted avg       1.00      1.00      1.00      9769\n",
            "\n",
            "\n",
            "==============================\n",
            "Model: KNN\n",
            " Accuracy: 0.9899\n",
            "Classification Report:\n",
            "              precision    recall  f1-score   support\n",
            "\n",
            "       <=50K       0.99      1.00      0.99      7431\n",
            "        >50K       0.99      0.96      0.98      2338\n",
            "\n",
            "    accuracy                           0.99      9769\n",
            "   macro avg       0.99      0.98      0.99      9769\n",
            "weighted avg       0.99      0.99      0.99      9769\n",
            "\n",
            "\n",
            "==============================\n",
            "Model: MLP Classifier\n",
            " Accuracy: 1.0000\n",
            "Classification Report:\n",
            "              precision    recall  f1-score   support\n",
            "\n",
            "       <=50K       1.00      1.00      1.00      7431\n",
            "        >50K       1.00      1.00      1.00      2338\n",
            "\n",
            "    accuracy                           1.00      9769\n",
            "   macro avg       1.00      1.00      1.00      9769\n",
            "weighted avg       1.00      1.00      1.00      9769\n",
            "\n",
            "\n",
            "==============================\n",
            "Model: Random Forest\n",
            " Accuracy: 1.0000\n",
            "Classification Report:\n",
            "              precision    recall  f1-score   support\n",
            "\n",
            "       <=50K       1.00      1.00      1.00      7431\n",
            "        >50K       1.00      1.00      1.00      2338\n",
            "\n",
            "    accuracy                           1.00      9769\n",
            "   macro avg       1.00      1.00      1.00      9769\n",
            "weighted avg       1.00      1.00      1.00      9769\n",
            "\n",
            "\n",
            "==============================\n",
            "Model: Gradient Boosting\n",
            " Accuracy: 1.0000\n",
            "Classification Report:\n",
            "              precision    recall  f1-score   support\n",
            "\n",
            "       <=50K       1.00      1.00      1.00      7431\n",
            "        >50K       1.00      1.00      1.00      2338\n",
            "\n",
            "    accuracy                           1.00      9769\n",
            "   macro avg       1.00      1.00      1.00      9769\n",
            "weighted avg       1.00      1.00      1.00      9769\n",
            "\n",
            "\n",
            "==============================\n",
            "Model: SVM\n",
            " Accuracy: 1.0000\n",
            "Classification Report:\n",
            "              precision    recall  f1-score   support\n",
            "\n",
            "       <=50K       1.00      1.00      1.00      7431\n",
            "        >50K       1.00      1.00      1.00      2338\n",
            "\n",
            "    accuracy                           1.00      9769\n",
            "   macro avg       1.00      1.00      1.00      9769\n",
            "weighted avg       1.00      1.00      1.00      9769\n",
            "\n",
            "\n",
            " All models evaluated!\n"
          ]
        }
      ]
    },
    {
      "cell_type": "code",
      "source": [
        "# MODEL ACCURACY COMPARISON GRAPH\n",
        "plt.figure(figsize=(10, 6))\n",
        "model_names = list(results.keys())\n",
        "accuracy_scores = list(results.values())\n",
        "\n",
        "sns.barplot(x=accuracy_scores, y=model_names, palette=\"viridis\")\n",
        "plt.xlabel(\"Accuracy Score\")\n",
        "plt.ylabel(\"Models\")\n",
        "plt.title(\"Model Comparison - Accuracy on Test Data\")\n",
        "plt.xlim(0.95, 1.02)  # accuracy between 0 and 1\n",
        "plt.grid(axis=\"x\", linestyle=\"--\", alpha=0.6)\n",
        "plt.show()\n",
        "\n"
      ],
      "metadata": {
        "colab": {
          "base_uri": "https://localhost:8080/",
          "height": 655
        },
        "id": "Umiv93LezkhE",
        "outputId": "64f0aa7a-11df-4327-8c45-058b6b94fdf3"
      },
      "execution_count": 43,
      "outputs": [
        {
          "output_type": "stream",
          "name": "stderr",
          "text": [
            "/tmp/ipython-input-43-198108819.py:6: FutureWarning: \n",
            "\n",
            "Passing `palette` without assigning `hue` is deprecated and will be removed in v0.14.0. Assign the `y` variable to `hue` and set `legend=False` for the same effect.\n",
            "\n",
            "  sns.barplot(x=accuracy_scores, y=model_names, palette=\"viridis\")\n"
          ]
        },
        {
          "output_type": "display_data",
          "data": {
            "text/plain": [
              "<Figure size 1000x600 with 1 Axes>"
            ],
            "image/png": "[encoded data removed]"
          },
          "metadata": {}
        }
      ]
    },
    {
      "cell_type": "code",
      "source": [
        "# FIND BEST MODEL\n",
        "best_model_name = max(results, key=results.get)\n",
        "print(\"\\n🏆 Best model:\", best_model_name, \"with Accuracy:\", results[best_model_name])\n",
        "\n",
        "# Retrain best model\n",
        "best_model = Pipeline(steps=[('preprocessor', preprocessor),\n",
        "                             ('classifier', models[best_model_name])])\n",
        "best_model.fit(X_train, y_train)\n",
        "best_pred = best_model.predict(X_test)\n",
        "\n",
        "# CONFUSION MATRIX\n",
        "cm = confusion_matrix(y_test, best_pred)\n",
        "disp = ConfusionMatrixDisplay(confusion_matrix=cm, display_labels=np.unique(y))\n",
        "disp.plot(cmap=plt.cm.Blues)\n",
        "plt.title(f\"Confusion Matrix - {best_model_name}\")\n",
        "plt.show()\n"
      ],
      "metadata": {
        "colab": {
          "base_uri": "https://localhost:8080/",
          "height": 508
        },
        "id": "dNMlY9kst1Um",
        "outputId": "10e2bb54-92c6-4ca2-edbe-2f3b502460a0"
      },
      "execution_count": 27,
      "outputs": [
        {
          "output_type": "stream",
          "name": "stdout",
          "text": [
            "\n",
            "🏆 Best model: Logistic Regression with Accuracy: 1.0\n"
          ]
        },
        {
          "output_type": "display_data",
          "data": {
            "text/plain": [
              "<Figure size 640x480 with 2 Axes>"
            ],
            "image/png": "[encoded data removed]"
          },
          "metadata": {}
        }
      ]
    },
    {
      "cell_type": "code",
      "source": [
        "# SAVE BEST MODEL\n",
        "joblib.dump(best_model, \"best_salary_model.pkl\")\n",
        "print(\"\\nBest model saved as best_salary_model.pkl\")\n"
      ],
      "metadata": {
        "colab": {
          "base_uri": "https://localhost:8080/"
        },
        "id": "Fs-yg9vHuBrS",
        "outputId": "40d2d040-c69e-4fef-ffd4-fc10f7d38fc9"
      },
      "execution_count": 28,
      "outputs": [
        {
          "output_type": "stream",
          "name": "stdout",
          "text": [
            "\n",
            "Best model saved as best_salary_model.pkl\n"
          ]
        }
      ]
    },
    {
      "cell_type": "code",
      "source": [
        "%%writefile app.py\n",
        "import streamlit as st\n",
        "import pandas as pd\n",
        "import joblib\n",
        "\n",
        "# Load the saved model\n",
        "model = joblib.load(\"best_salary_model.pkl\")\n",
        "\n",
        "st.set_page_config(page_title=\"Employee Salary Prediction\", layout=\"wide\")\n",
        "\n",
        "st.title(\"Employee Salary Prediction App\")\n",
        "st.write(\"Fill in the employee details below and predict the salary category.\")\n",
        "\n",
        "# Dynamically detect model input features\n",
        "model_features = model.named_steps['preprocessor'].transformers_[1][2] + model.named_steps['preprocessor'].transformers_[0][2]\n",
        "\n",
        "# Create input fields dynamically\n",
        "input_data = {}\n",
        "st.subheader(\"Employee Details\")\n",
        "\n",
        "for feature in model_features:\n",
        "    if feature.lower().startswith(\"num_\") or \"age\" in feature.lower() or \"years\" in feature.lower():\n",
        "        # Numeric input\n",
        "        input_data[feature] = st.number_input(f\"Enter {feature}\", value=0.0)\n",
        "    else:\n",
        "        # Text / Categorical input\n",
        "        input_data[feature] = st.text_input(f\"Enter {feature}\", value=\"NotGiven\")\n",
        "\n",
        "# Prediction button\n",
        "if st.button(\"Predict Salary Category\"):\n",
        "    # Create dataframe for prediction\n",
        "    user_df = pd.DataFrame([input_data])\n",
        "\n",
        "    # Predict\n",
        "    pred = model.predict(user_df)[0]\n",
        "    st.success(f\"Predicted Salary Category: **{pred}**\")\n"
      ],
      "metadata": {
        "colab": {
          "base_uri": "https://localhost:8080/"
        },
        "id": "CcemlF_6uaoL",
        "outputId": "7690a7e2-4b06-432b-ec92-59774b6b1eef"
      },
      "execution_count": 29,
      "outputs": [
        {
          "output_type": "stream",
          "name": "stdout",
          "text": [
            "Overwriting app.py\n"
          ]
        }
      ]
    },
    {
      "cell_type": "code",
      "source": [
        "!pip install streamlit pyngrok"
      ],
      "metadata": {
        "colab": {
          "base_uri": "https://localhost:8080/"
        },
        "id": "xLDCUChByzL8",
        "outputId": "f3b92c97-e870-482f-c384-7a6ee8120dd4"
      },
      "execution_count": 30,
      "outputs": [
        {
          "output_type": "stream",
          "name": "stdout",
          "text": [
            "Collecting streamlit\n",
            "  Downloading streamlit-1.47.0-py3-none-any.whl.metadata (9.0 kB)\n",
            "Collecting pyngrok\n",
            "  Downloading pyngrok-7.2.12-py3-none-any.whl.metadata (9.4 kB)\n",
            "Requirement already satisfied: altair<6,>=4.0 in /usr/local/lib/python3.11/dist-packages (from streamlit) (5.5.0)\n",
            "Requirement already satisfied: blinker<2,>=1.5.0 in /usr/local/lib/python3.11/dist-packages (from streamlit) (1.9.0)\n",
            "Requirement already satisfied: cachetools<7,>=4.0 in /usr/local/lib/python3.11/dist-packages (from streamlit) (5.5.2)\n",
            "Requirement already satisfied: click<9,>=7.0 in /usr/local/lib/python3.11/dist-packages (from streamlit) (8.2.1)\n",
            "Requirement already satisfied: numpy<3,>=1.23 in /usr/local/lib/python3.11/dist-packages (from streamlit) (2.0.2)\n",
            "Requirement already satisfied: packaging<26,>=20 in /usr/local/lib/python3.11/dist-packages (from streamlit) (25.0)\n",
            "Requirement already satisfied: pandas<3,>=1.4.0 in /usr/local/lib/python3.11/dist-packages (from streamlit) (2.2.2)\n",
            "Requirement already satisfied: pillow<12,>=7.1.0 in /usr/local/lib/python3.11/dist-packages (from streamlit) (11.3.0)\n",
            "Requirement already satisfied: protobuf<7,>=3.20 in /usr/local/lib/python3.11/dist-packages (from streamlit) (5.29.5)\n",
            "Requirement already satisfied: pyarrow>=7.0 in /usr/local/lib/python3.11/dist-packages (from streamlit) (18.1.0)\n",
            "Requirement already satisfied: requests<3,>=2.27 in /usr/local/lib/python3.11/dist-packages (from streamlit) (2.32.3)\n",
            "Requirement already satisfied: tenacity<10,>=8.1.0 in /usr/local/lib/python3.11/dist-packages (from streamlit) (8.5.0)\n",
            "Requirement already satisfied: toml<2,>=0.10.1 in /usr/local/lib/python3.11/dist-packages (from streamlit) (0.10.2)\n",
            "Requirement already satisfied: typing-extensions<5,>=4.4.0 in /usr/local/lib/python3.11/dist-packages (from streamlit) (4.14.1)\n",
            "Collecting watchdog<7,>=2.1.5 (from streamlit)\n",
            "  Downloading watchdog-6.0.0-py3-none-manylinux2014_x86_64.whl.metadata (44 kB)\n",
            "\u001b[2K     \u001b[90m━━━━━━━━━━━━━━━━━━━━━━━━━━━━━━━━━━━━━━━━\u001b[0m \u001b[32m44.3/44.3 kB\u001b[0m \u001b[31m2.7 MB/s\u001b[0m eta \u001b[36m0:00:00\u001b[0m\n",
            "\u001b[?25hRequirement already satisfied: gitpython!=3.1.19,<4,>=3.0.7 in /usr/local/lib/python3.11/dist-packages (from streamlit) (3.1.44)\n",
            "Collecting pydeck<1,>=0.8.0b4 (from streamlit)\n",
            "  Downloading pydeck-0.9.1-py2.py3-none-any.whl.metadata (4.1 kB)\n",
            "Requirement already satisfied: tornado!=6.5.0,<7,>=6.0.3 in /usr/local/lib/python3.11/dist-packages (from streamlit) (6.4.2)\n",
            "Requirement already satisfied: PyYAML>=5.1 in /usr/local/lib/python3.11/dist-packages (from pyngrok) (6.0.2)\n",
            "Requirement already satisfied: jinja2 in /usr/local/lib/python3.11/dist-packages (from altair<6,>=4.0->streamlit) (3.1.6)\n",
            "Requirement already satisfied: jsonschema>=3.0 in /usr/local/lib/python3.11/dist-packages (from altair<6,>=4.0->streamlit) (4.25.0)\n",
            "Requirement already satisfied: narwhals>=1.14.2 in /usr/local/lib/python3.11/dist-packages (from altair<6,>=4.0->streamlit) (1.47.1)\n",
            "Requirement already satisfied: gitdb<5,>=4.0.1 in /usr/local/lib/python3.11/dist-packages (from gitpython!=3.1.19,<4,>=3.0.7->streamlit) (4.0.12)\n",
            "Requirement already satisfied: python-dateutil>=2.8.2 in /usr/local/lib/python3.11/dist-packages (from pandas<3,>=1.4.0->streamlit) (2.9.0.post0)\n",
            "Requirement already satisfied: pytz>=2020.1 in /usr/local/lib/python3.11/dist-packages (from pandas<3,>=1.4.0->streamlit) (2025.2)\n",
            "Requirement already satisfied: tzdata>=2022.7 in /usr/local/lib/python3.11/dist-packages (from pandas<3,>=1.4.0->streamlit) (2025.2)\n",
            "Requirement already satisfied: charset-normalizer<4,>=2 in /usr/local/lib/python3.11/dist-packages (from requests<3,>=2.27->streamlit) (3.4.2)\n",
            "Requirement already satisfied: idna<4,>=2.5 in /usr/local/lib/python3.11/dist-packages (from requests<3,>=2.27->streamlit) (3.10)\n",
            "Requirement already satisfied: urllib3<3,>=1.21.1 in /usr/local/lib/python3.11/dist-packages (from requests<3,>=2.27->streamlit) (2.5.0)\n",
            "Requirement already satisfied: certifi>=2017.4.17 in /usr/local/lib/python3.11/dist-packages (from requests<3,>=2.27->streamlit) (2025.7.14)\n",
            "Requirement already satisfied: smmap<6,>=3.0.1 in /usr/local/lib/python3.11/dist-packages (from gitdb<5,>=4.0.1->gitpython!=3.1.19,<4,>=3.0.7->streamlit) (5.0.2)\n",
            "Requirement already satisfied: MarkupSafe>=2.0 in /usr/local/lib/python3.11/dist-packages (from jinja2->altair<6,>=4.0->streamlit) (3.0.2)\n",
            "Requirement already satisfied: attrs>=22.2.0 in /usr/local/lib/python3.11/dist-packages (from jsonschema>=3.0->altair<6,>=4.0->streamlit) (25.3.0)\n",
            "Requirement already satisfied: jsonschema-specifications>=2023.03.6 in /usr/local/lib/python3.11/dist-packages (from jsonschema>=3.0->altair<6,>=4.0->streamlit) (2025.4.1)\n",
            "Requirement already satisfied: referencing>=0.28.4 in /usr/local/lib/python3.11/dist-packages (from jsonschema>=3.0->altair<6,>=4.0->streamlit) (0.36.2)\n",
            "Requirement already satisfied: rpds-py>=0.7.1 in /usr/local/lib/python3.11/dist-packages (from jsonschema>=3.0->altair<6,>=4.0->streamlit) (0.26.0)\n",
            "Requirement already satisfied: six>=1.5 in /usr/local/lib/python3.11/dist-packages (from python-dateutil>=2.8.2->pandas<3,>=1.4.0->streamlit) (1.17.0)\n",
            "Downloading streamlit-1.47.0-py3-none-any.whl (9.9 MB)\n",
            "\u001b[2K   \u001b[90m━━━━━━━━━━━━━━━━━━━━━━━━━━━━━━━━━━━━━━━━\u001b[0m \u001b[32m9.9/9.9 MB\u001b[0m \u001b[31m78.3 MB/s\u001b[0m eta \u001b[36m0:00:00\u001b[0m\n",
            "\u001b[?25hDownloading pyngrok-7.2.12-py3-none-any.whl (26 kB)\n",
            "Downloading pydeck-0.9.1-py2.py3-none-any.whl (6.9 MB)\n",
            "\u001b[2K   \u001b[90m━━━━━━━━━━━━━━━━━━━━━━━━━━━━━━━━━━━━━━━━\u001b[0m \u001b[32m6.9/6.9 MB\u001b[0m \u001b[31m103.7 MB/s\u001b[0m eta \u001b[36m0:00:00\u001b[0m\n",
            "\u001b[?25hDownloading watchdog-6.0.0-py3-none-manylinux2014_x86_64.whl (79 kB)\n",
            "\u001b[2K   \u001b[90m━━━━━━━━━━━━━━━━━━━━━━━━━━━━━━━━━━━━━━━━\u001b[0m \u001b[32m79.1/79.1 kB\u001b[0m \u001b[31m8.4 MB/s\u001b[0m eta \u001b[36m0:00:00\u001b[0m\n",
            "\u001b[?25hInstalling collected packages: watchdog, pyngrok, pydeck, streamlit\n",
            "Successfully installed pydeck-0.9.1 pyngrok-7.2.12 streamlit-1.47.0 watchdog-6.0.0\n"
          ]
        }
      ]
    },
    {
      "cell_type": "code",
      "source": [
        "!ngrok authtoken 30GwSGgLuqfGk4FOYWm0JjiaiHR_3R1p4ay2RRc18dgtRMMfU"
      ],
      "metadata": {
        "colab": {
          "base_uri": "https://localhost:8080/"
        },
        "id": "pxii6PXJ4Wzu",
        "outputId": "c24a8fe5-af06-4717-8086-2ea462ba8e0b"
      },
      "execution_count": 32,
      "outputs": [
        {
          "output_type": "stream",
          "name": "stdout",
          "text": [
            "Authtoken saved to configuration file: /root/.config/ngrok/ngrok.yml\n"
          ]
        }
      ]
    },
    {
      "cell_type": "code",
      "source": [
        "import os\n",
        "import threading\n",
        "def run_streamlit():\n",
        "  os.system( 'streamlit run app.py --server .port 8501')\n",
        "thread = threading.Thread(target=run_streamlit)\n",
        "thread.start()"
      ],
      "metadata": {
        "id": "ue2VMfA64qi6"
      },
      "execution_count": 34,
      "outputs": []
    },
    {
      "cell_type": "code",
      "source": [
        "from pyngrok import ngrok\n",
        "import time\n",
        "# Wait a few seconds to make sure Streamlit started\n",
        "time.sleep(5)\n",
        "# Create a tunnel to the Streamlit port 8501\n",
        "public_url = ngrok.connect(8501)\n",
        "print(\"Your Streamlit app is live here: \", public_url)"
      ],
      "metadata": {
        "colab": {
          "base_uri": "https://localhost:8080/"
        },
        "id": "t056g1KU5kN4",
        "outputId": "fc5f1554-e0fe-4065-d258-57d0c22d782f"
      },
      "execution_count": 36,
      "outputs": [
        {
          "output_type": "stream",
          "name": "stdout",
          "text": [
            "Your Streamlit app is live here:  NgrokTunnel: \"https://c97a9a5912c5.ngrok-free.app\" -> \"http://localhost:8501\"\n"
          ]
        }
      ]
    }
  ],
  "metadata": {
    "colab": {
      "provenance": [],
      "authorship_tag": "ABX9TyPCHc8JWkaZwYNLbPktMARd",
      "include_colab_link": true
    },
    "kernelspec": {
      "display_name": "Python 3",
      "name": "python3"
    },
    "language_info": {
      "name": "python"
    }
  },
  "nbformat": 4,
  "nbformat_minor": 0
}